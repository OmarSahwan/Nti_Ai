{
  "nbformat": 4,
  "nbformat_minor": 0,
  "metadata": {
    "colab": {
      "provenance": [],
      "toc_visible": true
    },
    "kernelspec": {
      "name": "python3",
      "display_name": "Python 3"
    },
    "language_info": {
      "name": "python"
    }
  },
  "cells": [
    {
      "cell_type": "code",
      "execution_count": 152,
      "metadata": {
        "colab": {
          "base_uri": "https://localhost:8080/"
        },
        "id": "udcyFJyZb7eP",
        "outputId": "ae015ccf-049a-4118-9ea9-5dfab34bd334"
      },
      "outputs": [
        {
          "output_type": "stream",
          "name": "stdout",
          "text": [
            "2.12.0\n"
          ]
        }
      ],
      "source": [
        "import tensorflow as tf\n",
        "print(tf.__version__)"
      ]
    },
    {
      "cell_type": "code",
      "source": [
        "print(tf.__version__)"
      ],
      "metadata": {
        "colab": {
          "base_uri": "https://localhost:8080/"
        },
        "id": "FeEYiokUeIyp",
        "outputId": "7caffbf4-b021-45a5-d47d-5b33c6c07718"
      },
      "execution_count": 153,
      "outputs": [
        {
          "output_type": "stream",
          "name": "stdout",
          "text": [
            "2.12.0\n"
          ]
        }
      ]
    },
    {
      "cell_type": "code",
      "source": [
        "from keras.models import Sequential\n",
        "from keras.layers import Dense\n",
        "import numpy\n",
        "import numpy as np\n",
        "import seaborn as sns\n",
        "import matplotlib.pyplot as plt\n",
        "import warnings\n",
        "warnings.filterwarnings('ignore')\n",
        "numpy.random.seed(7)"
      ],
      "metadata": {
        "id": "FynRxeWFfng1"
      },
      "execution_count": 154,
      "outputs": []
    },
    {
      "cell_type": "code",
      "source": [
        "from numpy.core.fromnumeric import mean\n",
        "import pandas as pd\n",
        "dataset = pd.read_csv(\"diabetes3.csv\")\n",
        "\n",
        "\n"
      ],
      "metadata": {
        "id": "oo6QRX6Sfp4q"
      },
      "execution_count": 155,
      "outputs": []
    },
    {
      "cell_type": "code",
      "source": [
        "dataset.head()"
      ],
      "metadata": {
        "colab": {
          "base_uri": "https://localhost:8080/",
          "height": 206
        },
        "id": "jv8ET9JxJqnJ",
        "outputId": "a4b09597-554e-45f5-99c0-c595e74b1507"
      },
      "execution_count": 156,
      "outputs": [
        {
          "output_type": "execute_result",
          "data": {
            "text/plain": [
              "   Pregnancies  Glucose  BloodPressure  SkinThickness  Insulin   BMI  \\\n",
              "0            2      138             62             35        0  33.6   \n",
              "1            0       84             82             31      125  38.2   \n",
              "2            0      145              0              0        0  44.2   \n",
              "3            0      135             68             42      250  42.3   \n",
              "4            1      139             62             41      480  40.7   \n",
              "\n",
              "   DiabetesPedigreeFunction  Age  Outcome  \n",
              "0                     0.127   47        1  \n",
              "1                     0.233   23        0  \n",
              "2                     0.630   31        1  \n",
              "3                     0.365   24        1  \n",
              "4                     0.536   21        0  "
            ],
            "text/html": [
              "\n",
              "\n",
              "  <div id=\"df-4e32c8da-f8a3-4111-8ba4-64401f0d3444\">\n",
              "    <div class=\"colab-df-container\">\n",
              "      <div>\n",
              "<style scoped>\n",
              "    .dataframe tbody tr th:only-of-type {\n",
              "        vertical-align: middle;\n",
              "    }\n",
              "\n",
              "    .dataframe tbody tr th {\n",
              "        vertical-align: top;\n",
              "    }\n",
              "\n",
              "    .dataframe thead th {\n",
              "        text-align: right;\n",
              "    }\n",
              "</style>\n",
              "<table border=\"1\" class=\"dataframe\">\n",
              "  <thead>\n",
              "    <tr style=\"text-align: right;\">\n",
              "      <th></th>\n",
              "      <th>Pregnancies</th>\n",
              "      <th>Glucose</th>\n",
              "      <th>BloodPressure</th>\n",
              "      <th>SkinThickness</th>\n",
              "      <th>Insulin</th>\n",
              "      <th>BMI</th>\n",
              "      <th>DiabetesPedigreeFunction</th>\n",
              "      <th>Age</th>\n",
              "      <th>Outcome</th>\n",
              "    </tr>\n",
              "  </thead>\n",
              "  <tbody>\n",
              "    <tr>\n",
              "      <th>0</th>\n",
              "      <td>2</td>\n",
              "      <td>138</td>\n",
              "      <td>62</td>\n",
              "      <td>35</td>\n",
              "      <td>0</td>\n",
              "      <td>33.6</td>\n",
              "      <td>0.127</td>\n",
              "      <td>47</td>\n",
              "      <td>1</td>\n",
              "    </tr>\n",
              "    <tr>\n",
              "      <th>1</th>\n",
              "      <td>0</td>\n",
              "      <td>84</td>\n",
              "      <td>82</td>\n",
              "      <td>31</td>\n",
              "      <td>125</td>\n",
              "      <td>38.2</td>\n",
              "      <td>0.233</td>\n",
              "      <td>23</td>\n",
              "      <td>0</td>\n",
              "    </tr>\n",
              "    <tr>\n",
              "      <th>2</th>\n",
              "      <td>0</td>\n",
              "      <td>145</td>\n",
              "      <td>0</td>\n",
              "      <td>0</td>\n",
              "      <td>0</td>\n",
              "      <td>44.2</td>\n",
              "      <td>0.630</td>\n",
              "      <td>31</td>\n",
              "      <td>1</td>\n",
              "    </tr>\n",
              "    <tr>\n",
              "      <th>3</th>\n",
              "      <td>0</td>\n",
              "      <td>135</td>\n",
              "      <td>68</td>\n",
              "      <td>42</td>\n",
              "      <td>250</td>\n",
              "      <td>42.3</td>\n",
              "      <td>0.365</td>\n",
              "      <td>24</td>\n",
              "      <td>1</td>\n",
              "    </tr>\n",
              "    <tr>\n",
              "      <th>4</th>\n",
              "      <td>1</td>\n",
              "      <td>139</td>\n",
              "      <td>62</td>\n",
              "      <td>41</td>\n",
              "      <td>480</td>\n",
              "      <td>40.7</td>\n",
              "      <td>0.536</td>\n",
              "      <td>21</td>\n",
              "      <td>0</td>\n",
              "    </tr>\n",
              "  </tbody>\n",
              "</table>\n",
              "</div>\n",
              "      <button class=\"colab-df-convert\" onclick=\"convertToInteractive('df-4e32c8da-f8a3-4111-8ba4-64401f0d3444')\"\n",
              "              title=\"Convert this dataframe to an interactive table.\"\n",
              "              style=\"display:none;\">\n",
              "\n",
              "  <svg xmlns=\"http://www.w3.org/2000/svg\" height=\"24px\"viewBox=\"0 0 24 24\"\n",
              "       width=\"24px\">\n",
              "    <path d=\"M0 0h24v24H0V0z\" fill=\"none\"/>\n",
              "    <path d=\"M18.56 5.44l.94 2.06.94-2.06 2.06-.94-2.06-.94-.94-2.06-.94 2.06-2.06.94zm-11 1L8.5 8.5l.94-2.06 2.06-.94-2.06-.94L8.5 2.5l-.94 2.06-2.06.94zm10 10l.94 2.06.94-2.06 2.06-.94-2.06-.94-.94-2.06-.94 2.06-2.06.94z\"/><path d=\"M17.41 7.96l-1.37-1.37c-.4-.4-.92-.59-1.43-.59-.52 0-1.04.2-1.43.59L10.3 9.45l-7.72 7.72c-.78.78-.78 2.05 0 2.83L4 21.41c.39.39.9.59 1.41.59.51 0 1.02-.2 1.41-.59l7.78-7.78 2.81-2.81c.8-.78.8-2.07 0-2.86zM5.41 20L4 18.59l7.72-7.72 1.47 1.35L5.41 20z\"/>\n",
              "  </svg>\n",
              "      </button>\n",
              "\n",
              "\n",
              "\n",
              "    <div id=\"df-fa3f1c97-e351-4458-bed3-5b2a342876b8\">\n",
              "      <button class=\"colab-df-quickchart\" onclick=\"quickchart('df-fa3f1c97-e351-4458-bed3-5b2a342876b8')\"\n",
              "              title=\"Suggest charts.\"\n",
              "              style=\"display:none;\">\n",
              "\n",
              "<svg xmlns=\"http://www.w3.org/2000/svg\" height=\"24px\"viewBox=\"0 0 24 24\"\n",
              "     width=\"24px\">\n",
              "    <g>\n",
              "        <path d=\"M19 3H5c-1.1 0-2 .9-2 2v14c0 1.1.9 2 2 2h14c1.1 0 2-.9 2-2V5c0-1.1-.9-2-2-2zM9 17H7v-7h2v7zm4 0h-2V7h2v10zm4 0h-2v-4h2v4z\"/>\n",
              "    </g>\n",
              "</svg>\n",
              "      </button>\n",
              "    </div>\n",
              "\n",
              "<style>\n",
              "  .colab-df-quickchart {\n",
              "    background-color: #E8F0FE;\n",
              "    border: none;\n",
              "    border-radius: 50%;\n",
              "    cursor: pointer;\n",
              "    display: none;\n",
              "    fill: #1967D2;\n",
              "    height: 32px;\n",
              "    padding: 0 0 0 0;\n",
              "    width: 32px;\n",
              "  }\n",
              "\n",
              "  .colab-df-quickchart:hover {\n",
              "    background-color: #E2EBFA;\n",
              "    box-shadow: 0px 1px 2px rgba(60, 64, 67, 0.3), 0px 1px 3px 1px rgba(60, 64, 67, 0.15);\n",
              "    fill: #174EA6;\n",
              "  }\n",
              "\n",
              "  [theme=dark] .colab-df-quickchart {\n",
              "    background-color: #3B4455;\n",
              "    fill: #D2E3FC;\n",
              "  }\n",
              "\n",
              "  [theme=dark] .colab-df-quickchart:hover {\n",
              "    background-color: #434B5C;\n",
              "    box-shadow: 0px 1px 3px 1px rgba(0, 0, 0, 0.15);\n",
              "    filter: drop-shadow(0px 1px 2px rgba(0, 0, 0, 0.3));\n",
              "    fill: #FFFFFF;\n",
              "  }\n",
              "</style>\n",
              "\n",
              "    <script>\n",
              "      async function quickchart(key) {\n",
              "        const containerElement = document.querySelector('#' + key);\n",
              "        const charts = await google.colab.kernel.invokeFunction(\n",
              "            'suggestCharts', [key], {});\n",
              "      }\n",
              "    </script>\n",
              "\n",
              "      <script>\n",
              "\n",
              "function displayQuickchartButton(domScope) {\n",
              "  let quickchartButtonEl =\n",
              "    domScope.querySelector('#df-fa3f1c97-e351-4458-bed3-5b2a342876b8 button.colab-df-quickchart');\n",
              "  quickchartButtonEl.style.display =\n",
              "    google.colab.kernel.accessAllowed ? 'block' : 'none';\n",
              "}\n",
              "\n",
              "        displayQuickchartButton(document);\n",
              "      </script>\n",
              "      <style>\n",
              "    .colab-df-container {\n",
              "      display:flex;\n",
              "      flex-wrap:wrap;\n",
              "      gap: 12px;\n",
              "    }\n",
              "\n",
              "    .colab-df-convert {\n",
              "      background-color: #E8F0FE;\n",
              "      border: none;\n",
              "      border-radius: 50%;\n",
              "      cursor: pointer;\n",
              "      display: none;\n",
              "      fill: #1967D2;\n",
              "      height: 32px;\n",
              "      padding: 0 0 0 0;\n",
              "      width: 32px;\n",
              "    }\n",
              "\n",
              "    .colab-df-convert:hover {\n",
              "      background-color: #E2EBFA;\n",
              "      box-shadow: 0px 1px 2px rgba(60, 64, 67, 0.3), 0px 1px 3px 1px rgba(60, 64, 67, 0.15);\n",
              "      fill: #174EA6;\n",
              "    }\n",
              "\n",
              "    [theme=dark] .colab-df-convert {\n",
              "      background-color: #3B4455;\n",
              "      fill: #D2E3FC;\n",
              "    }\n",
              "\n",
              "    [theme=dark] .colab-df-convert:hover {\n",
              "      background-color: #434B5C;\n",
              "      box-shadow: 0px 1px 3px 1px rgba(0, 0, 0, 0.15);\n",
              "      filter: drop-shadow(0px 1px 2px rgba(0, 0, 0, 0.3));\n",
              "      fill: #FFFFFF;\n",
              "    }\n",
              "  </style>\n",
              "\n",
              "      <script>\n",
              "        const buttonEl =\n",
              "          document.querySelector('#df-4e32c8da-f8a3-4111-8ba4-64401f0d3444 button.colab-df-convert');\n",
              "        buttonEl.style.display =\n",
              "          google.colab.kernel.accessAllowed ? 'block' : 'none';\n",
              "\n",
              "        async function convertToInteractive(key) {\n",
              "          const element = document.querySelector('#df-4e32c8da-f8a3-4111-8ba4-64401f0d3444');\n",
              "          const dataTable =\n",
              "            await google.colab.kernel.invokeFunction('convertToInteractive',\n",
              "                                                     [key], {});\n",
              "          if (!dataTable) return;\n",
              "\n",
              "          const docLinkHtml = 'Like what you see? Visit the ' +\n",
              "            '<a target=\"_blank\" href=https://colab.research.google.com/notebooks/data_table.ipynb>data table notebook</a>'\n",
              "            + ' to learn more about interactive tables.';\n",
              "          element.innerHTML = '';\n",
              "          dataTable['output_type'] = 'display_data';\n",
              "          await google.colab.output.renderOutput(dataTable, element);\n",
              "          const docLink = document.createElement('div');\n",
              "          docLink.innerHTML = docLinkHtml;\n",
              "          element.appendChild(docLink);\n",
              "        }\n",
              "      </script>\n",
              "    </div>\n",
              "  </div>\n"
            ]
          },
          "metadata": {},
          "execution_count": 156
        }
      ]
    },
    {
      "cell_type": "code",
      "source": [
        "def check_outliers(col,show1):\n",
        "    Q1=show1[col].quantile(0.25)\n",
        "    Q3=show1[col].quantile(0.75)\n",
        "    IQR=Q3-Q1\n",
        "    upper_limit=Q3+1.5*IQR\n",
        "    lower_limit=Q1-1.5*IQR\n",
        "\n",
        "\n",
        "    outliers=[]\n",
        "\n",
        "    for i in range(len(show1)):\n",
        "        value=show1.loc[i,col]\n",
        "        if value>upper_limit or value<lower_limit:\n",
        "            outliers.append(value)\n",
        "    return outliers"
      ],
      "metadata": {
        "id": "dlNQj2GqRMRO"
      },
      "execution_count": 157,
      "outputs": []
    },
    {
      "cell_type": "code",
      "source": [
        "def handle_outliers(col,show1):\n",
        "    Q1=show1[col].quantile(0.25)\n",
        "    Q3=show1[col].quantile(0.75)\n",
        "    IQR=Q3-Q1\n",
        "    upper_limit=Q3+1.5*IQR\n",
        "    lower_limit=Q1-1.5*IQR\n",
        "\n",
        "    for i in range(len(show1)):\n",
        "\n",
        "        if show1.loc[i,col]>upper_limit:\n",
        "            show1.loc[i,col]=upper_limit\n",
        "        elif show1.loc[i,col]<lower_limit:\n",
        "            show1.loc[i,col]=lower_limit"
      ],
      "metadata": {
        "id": "drW984BnRMbS"
      },
      "execution_count": 158,
      "outputs": []
    },
    {
      "cell_type": "code",
      "source": [
        "\n",
        "\n",
        "mean=dataset['Glucose'].mean()\n",
        "dataset['Glucose'].replace(0, mean, inplace=True)\n",
        "check_outliers('Glucose',dataset)\n",
        "handle_outliers('Glucose',dataset)\n",
        "check_outliers('Glucose',dataset)\n",
        "\n",
        "mean=dataset['BloodPressure'].mean()\n",
        "dataset['BloodPressure'].replace(0, mean, inplace=True)\n",
        "check_outliers('BloodPressure',dataset)\n",
        "handle_outliers('BloodPressure',dataset)\n",
        "check_outliers('BloodPressure',dataset)\n",
        "\n",
        "mean=dataset['SkinThickness'].mean()\n",
        "dataset['SkinThickness'].replace(0, mean, inplace=True)\n",
        "check_outliers('SkinThickness',dataset)\n",
        "handle_outliers('SkinThickness',dataset)\n",
        "check_outliers('SkinThickness',dataset)\n",
        "\n",
        "mean=dataset['Insulin'].mean()\n",
        "dataset['Insulin'].replace(0, mean, inplace=True)\n",
        "check_outliers('Insulin',dataset)\n",
        "handle_outliers('Insulin',dataset)\n",
        "check_outliers('Insulin',dataset)\n",
        "\n",
        "mean=dataset['BMI'].mean()\n",
        "dataset['BMI'].replace(0, mean, inplace=True)\n",
        "check_outliers('BMI',dataset)\n",
        "handle_outliers('BMI',dataset)\n",
        "check_outliers('BMI',dataset)\n",
        "\n",
        "mean=dataset['DiabetesPedigreeFunction'].mean()\n",
        "dataset['DiabetesPedigreeFunction'].replace(0, mean, inplace=True)\n",
        "check_outliers('DiabetesPedigreeFunction',dataset)\n",
        "handle_outliers('DiabetesPedigreeFunction',dataset)\n",
        "check_outliers('DiabetesPedigreeFunction',dataset)\n",
        "\n",
        "mean=dataset['Age'].mean()\n",
        "dataset['Age'].replace(0, mean, inplace=True)\n",
        "check_outliers('Age',dataset)\n",
        "handle_outliers('Age',dataset)\n",
        "check_outliers('Age',dataset)\n",
        "\n",
        "dataset.head()"
      ],
      "metadata": {
        "colab": {
          "base_uri": "https://localhost:8080/",
          "height": 206
        },
        "id": "YHF-YLh3NSK9",
        "outputId": "b7df8c8b-45ef-40df-d721-8998d0af5cca"
      },
      "execution_count": 159,
      "outputs": [
        {
          "output_type": "execute_result",
          "data": {
            "text/plain": [
              "   Pregnancies  Glucose  BloodPressure  SkinThickness     Insulin   BMI  \\\n",
              "0            2    138.0      62.000000      35.000000   80.127890  33.6   \n",
              "1            0     84.0      82.000000      31.000000  125.000000  38.2   \n",
              "2            0    145.0      69.134393      20.824422   80.127890  44.2   \n",
              "3            0    135.0      68.000000      42.000000  204.808165  42.3   \n",
              "4            1    139.0      62.000000      41.000000  204.808165  40.7   \n",
              "\n",
              "   DiabetesPedigreeFunction  Age  Outcome  \n",
              "0                     0.127   47        1  \n",
              "1                     0.233   23        0  \n",
              "2                     0.630   31        1  \n",
              "3                     0.365   24        1  \n",
              "4                     0.536   21        0  "
            ],
            "text/html": [
              "\n",
              "\n",
              "  <div id=\"df-d1552615-bf29-4122-b34a-d4066636539c\">\n",
              "    <div class=\"colab-df-container\">\n",
              "      <div>\n",
              "<style scoped>\n",
              "    .dataframe tbody tr th:only-of-type {\n",
              "        vertical-align: middle;\n",
              "    }\n",
              "\n",
              "    .dataframe tbody tr th {\n",
              "        vertical-align: top;\n",
              "    }\n",
              "\n",
              "    .dataframe thead th {\n",
              "        text-align: right;\n",
              "    }\n",
              "</style>\n",
              "<table border=\"1\" class=\"dataframe\">\n",
              "  <thead>\n",
              "    <tr style=\"text-align: right;\">\n",
              "      <th></th>\n",
              "      <th>Pregnancies</th>\n",
              "      <th>Glucose</th>\n",
              "      <th>BloodPressure</th>\n",
              "      <th>SkinThickness</th>\n",
              "      <th>Insulin</th>\n",
              "      <th>BMI</th>\n",
              "      <th>DiabetesPedigreeFunction</th>\n",
              "      <th>Age</th>\n",
              "      <th>Outcome</th>\n",
              "    </tr>\n",
              "  </thead>\n",
              "  <tbody>\n",
              "    <tr>\n",
              "      <th>0</th>\n",
              "      <td>2</td>\n",
              "      <td>138.0</td>\n",
              "      <td>62.000000</td>\n",
              "      <td>35.000000</td>\n",
              "      <td>80.127890</td>\n",
              "      <td>33.6</td>\n",
              "      <td>0.127</td>\n",
              "      <td>47</td>\n",
              "      <td>1</td>\n",
              "    </tr>\n",
              "    <tr>\n",
              "      <th>1</th>\n",
              "      <td>0</td>\n",
              "      <td>84.0</td>\n",
              "      <td>82.000000</td>\n",
              "      <td>31.000000</td>\n",
              "      <td>125.000000</td>\n",
              "      <td>38.2</td>\n",
              "      <td>0.233</td>\n",
              "      <td>23</td>\n",
              "      <td>0</td>\n",
              "    </tr>\n",
              "    <tr>\n",
              "      <th>2</th>\n",
              "      <td>0</td>\n",
              "      <td>145.0</td>\n",
              "      <td>69.134393</td>\n",
              "      <td>20.824422</td>\n",
              "      <td>80.127890</td>\n",
              "      <td>44.2</td>\n",
              "      <td>0.630</td>\n",
              "      <td>31</td>\n",
              "      <td>1</td>\n",
              "    </tr>\n",
              "    <tr>\n",
              "      <th>3</th>\n",
              "      <td>0</td>\n",
              "      <td>135.0</td>\n",
              "      <td>68.000000</td>\n",
              "      <td>42.000000</td>\n",
              "      <td>204.808165</td>\n",
              "      <td>42.3</td>\n",
              "      <td>0.365</td>\n",
              "      <td>24</td>\n",
              "      <td>1</td>\n",
              "    </tr>\n",
              "    <tr>\n",
              "      <th>4</th>\n",
              "      <td>1</td>\n",
              "      <td>139.0</td>\n",
              "      <td>62.000000</td>\n",
              "      <td>41.000000</td>\n",
              "      <td>204.808165</td>\n",
              "      <td>40.7</td>\n",
              "      <td>0.536</td>\n",
              "      <td>21</td>\n",
              "      <td>0</td>\n",
              "    </tr>\n",
              "  </tbody>\n",
              "</table>\n",
              "</div>\n",
              "      <button class=\"colab-df-convert\" onclick=\"convertToInteractive('df-d1552615-bf29-4122-b34a-d4066636539c')\"\n",
              "              title=\"Convert this dataframe to an interactive table.\"\n",
              "              style=\"display:none;\">\n",
              "\n",
              "  <svg xmlns=\"http://www.w3.org/2000/svg\" height=\"24px\"viewBox=\"0 0 24 24\"\n",
              "       width=\"24px\">\n",
              "    <path d=\"M0 0h24v24H0V0z\" fill=\"none\"/>\n",
              "    <path d=\"M18.56 5.44l.94 2.06.94-2.06 2.06-.94-2.06-.94-.94-2.06-.94 2.06-2.06.94zm-11 1L8.5 8.5l.94-2.06 2.06-.94-2.06-.94L8.5 2.5l-.94 2.06-2.06.94zm10 10l.94 2.06.94-2.06 2.06-.94-2.06-.94-.94-2.06-.94 2.06-2.06.94z\"/><path d=\"M17.41 7.96l-1.37-1.37c-.4-.4-.92-.59-1.43-.59-.52 0-1.04.2-1.43.59L10.3 9.45l-7.72 7.72c-.78.78-.78 2.05 0 2.83L4 21.41c.39.39.9.59 1.41.59.51 0 1.02-.2 1.41-.59l7.78-7.78 2.81-2.81c.8-.78.8-2.07 0-2.86zM5.41 20L4 18.59l7.72-7.72 1.47 1.35L5.41 20z\"/>\n",
              "  </svg>\n",
              "      </button>\n",
              "\n",
              "\n",
              "\n",
              "    <div id=\"df-1f3fb529-8393-4c53-ad67-3681e0e25372\">\n",
              "      <button class=\"colab-df-quickchart\" onclick=\"quickchart('df-1f3fb529-8393-4c53-ad67-3681e0e25372')\"\n",
              "              title=\"Suggest charts.\"\n",
              "              style=\"display:none;\">\n",
              "\n",
              "<svg xmlns=\"http://www.w3.org/2000/svg\" height=\"24px\"viewBox=\"0 0 24 24\"\n",
              "     width=\"24px\">\n",
              "    <g>\n",
              "        <path d=\"M19 3H5c-1.1 0-2 .9-2 2v14c0 1.1.9 2 2 2h14c1.1 0 2-.9 2-2V5c0-1.1-.9-2-2-2zM9 17H7v-7h2v7zm4 0h-2V7h2v10zm4 0h-2v-4h2v4z\"/>\n",
              "    </g>\n",
              "</svg>\n",
              "      </button>\n",
              "    </div>\n",
              "\n",
              "<style>\n",
              "  .colab-df-quickchart {\n",
              "    background-color: #E8F0FE;\n",
              "    border: none;\n",
              "    border-radius: 50%;\n",
              "    cursor: pointer;\n",
              "    display: none;\n",
              "    fill: #1967D2;\n",
              "    height: 32px;\n",
              "    padding: 0 0 0 0;\n",
              "    width: 32px;\n",
              "  }\n",
              "\n",
              "  .colab-df-quickchart:hover {\n",
              "    background-color: #E2EBFA;\n",
              "    box-shadow: 0px 1px 2px rgba(60, 64, 67, 0.3), 0px 1px 3px 1px rgba(60, 64, 67, 0.15);\n",
              "    fill: #174EA6;\n",
              "  }\n",
              "\n",
              "  [theme=dark] .colab-df-quickchart {\n",
              "    background-color: #3B4455;\n",
              "    fill: #D2E3FC;\n",
              "  }\n",
              "\n",
              "  [theme=dark] .colab-df-quickchart:hover {\n",
              "    background-color: #434B5C;\n",
              "    box-shadow: 0px 1px 3px 1px rgba(0, 0, 0, 0.15);\n",
              "    filter: drop-shadow(0px 1px 2px rgba(0, 0, 0, 0.3));\n",
              "    fill: #FFFFFF;\n",
              "  }\n",
              "</style>\n",
              "\n",
              "    <script>\n",
              "      async function quickchart(key) {\n",
              "        const containerElement = document.querySelector('#' + key);\n",
              "        const charts = await google.colab.kernel.invokeFunction(\n",
              "            'suggestCharts', [key], {});\n",
              "      }\n",
              "    </script>\n",
              "\n",
              "      <script>\n",
              "\n",
              "function displayQuickchartButton(domScope) {\n",
              "  let quickchartButtonEl =\n",
              "    domScope.querySelector('#df-1f3fb529-8393-4c53-ad67-3681e0e25372 button.colab-df-quickchart');\n",
              "  quickchartButtonEl.style.display =\n",
              "    google.colab.kernel.accessAllowed ? 'block' : 'none';\n",
              "}\n",
              "\n",
              "        displayQuickchartButton(document);\n",
              "      </script>\n",
              "      <style>\n",
              "    .colab-df-container {\n",
              "      display:flex;\n",
              "      flex-wrap:wrap;\n",
              "      gap: 12px;\n",
              "    }\n",
              "\n",
              "    .colab-df-convert {\n",
              "      background-color: #E8F0FE;\n",
              "      border: none;\n",
              "      border-radius: 50%;\n",
              "      cursor: pointer;\n",
              "      display: none;\n",
              "      fill: #1967D2;\n",
              "      height: 32px;\n",
              "      padding: 0 0 0 0;\n",
              "      width: 32px;\n",
              "    }\n",
              "\n",
              "    .colab-df-convert:hover {\n",
              "      background-color: #E2EBFA;\n",
              "      box-shadow: 0px 1px 2px rgba(60, 64, 67, 0.3), 0px 1px 3px 1px rgba(60, 64, 67, 0.15);\n",
              "      fill: #174EA6;\n",
              "    }\n",
              "\n",
              "    [theme=dark] .colab-df-convert {\n",
              "      background-color: #3B4455;\n",
              "      fill: #D2E3FC;\n",
              "    }\n",
              "\n",
              "    [theme=dark] .colab-df-convert:hover {\n",
              "      background-color: #434B5C;\n",
              "      box-shadow: 0px 1px 3px 1px rgba(0, 0, 0, 0.15);\n",
              "      filter: drop-shadow(0px 1px 2px rgba(0, 0, 0, 0.3));\n",
              "      fill: #FFFFFF;\n",
              "    }\n",
              "  </style>\n",
              "\n",
              "      <script>\n",
              "        const buttonEl =\n",
              "          document.querySelector('#df-d1552615-bf29-4122-b34a-d4066636539c button.colab-df-convert');\n",
              "        buttonEl.style.display =\n",
              "          google.colab.kernel.accessAllowed ? 'block' : 'none';\n",
              "\n",
              "        async function convertToInteractive(key) {\n",
              "          const element = document.querySelector('#df-d1552615-bf29-4122-b34a-d4066636539c');\n",
              "          const dataTable =\n",
              "            await google.colab.kernel.invokeFunction('convertToInteractive',\n",
              "                                                     [key], {});\n",
              "          if (!dataTable) return;\n",
              "\n",
              "          const docLinkHtml = 'Like what you see? Visit the ' +\n",
              "            '<a target=\"_blank\" href=https://colab.research.google.com/notebooks/data_table.ipynb>data table notebook</a>'\n",
              "            + ' to learn more about interactive tables.';\n",
              "          element.innerHTML = '';\n",
              "          dataTable['output_type'] = 'display_data';\n",
              "          await google.colab.output.renderOutput(dataTable, element);\n",
              "          const docLink = document.createElement('div');\n",
              "          docLink.innerHTML = docLinkHtml;\n",
              "          element.appendChild(docLink);\n",
              "        }\n",
              "      </script>\n",
              "    </div>\n",
              "  </div>\n"
            ]
          },
          "metadata": {},
          "execution_count": 159
        }
      ]
    },
    {
      "cell_type": "code",
      "source": [
        "X = dataset.iloc[:, 0:8].values # INpUT < matrix 2D\n",
        "y = dataset.iloc[:, 8].values   # output < vector 1D\n",
        "#mean=dataset[X].mean()\n",
        "#dataset[X].fillna(mean,inplace=True)\n",
        "x=pd.DataFrame(X)\n",
        "print(x.head())\n",
        "\n",
        "\n",
        "\n",
        "# Splitting the dataset into the Training set and Test set\n",
        "from sklearn.model_selection import train_test_split\n",
        "X_train, X_test, y_train, y_test = train_test_split(X, y, test_size = 0.30)\n"
      ],
      "metadata": {
        "colab": {
          "base_uri": "https://localhost:8080/"
        },
        "id": "O4hXaiEaIVwQ",
        "outputId": "761cb1a5-d1bc-4ef5-8407-df4e2310b060"
      },
      "execution_count": 164,
      "outputs": [
        {
          "output_type": "stream",
          "name": "stdout",
          "text": [
            "     0      1          2          3           4     5      6     7\n",
            "0  2.0  138.0  62.000000  35.000000   80.127890  33.6  0.127  47.0\n",
            "1  0.0   84.0  82.000000  31.000000  125.000000  38.2  0.233  23.0\n",
            "2  0.0  145.0  69.134393  20.824422   80.127890  44.2  0.630  31.0\n",
            "3  0.0  135.0  68.000000  42.000000  204.808165  42.3  0.365  24.0\n",
            "4  1.0  139.0  62.000000  41.000000  204.808165  40.7  0.536  21.0\n"
          ]
        }
      ]
    },
    {
      "cell_type": "code",
      "source": [
        "\n"
      ],
      "metadata": {
        "id": "OPM1U2FDUjEt"
      },
      "execution_count": 160,
      "outputs": []
    },
    {
      "cell_type": "code",
      "source": [
        "from sklearn.svm import SVC\n",
        "classifier = SVC(kernel = 'rbf', random_state = 10)\n",
        "classifier.fit(X_train,y_train)\n",
        "\n",
        "\n",
        "y_pred = classifier.predict(X_test)\n",
        "\n",
        "\n",
        "from sklearn.metrics import confusion_matrix\n",
        "\n",
        "cm=confusion_matrix(y_test, y_pred)\n",
        "acc=(cm[0][0]+cm[1][1])/len(y_test)\n",
        "#Accuracy=Accuracy+acc\n",
        "#print('Accuracy is %f'%(acc*100))\n",
        "\n",
        "#Accuracy=Accuracy/20\n",
        "#print('Total Accuracy equals= %f'%(Accuracy*100))\n",
        "precision=cm[1][1]/(cm[1][1]+cm[0][1])\n",
        "true_pos_rate=cm[1][1]/(cm[1][1]+cm[1][0])\n",
        "true_neg_rate=cm[0][0]/(cm[0][0]+cm[0][1])\n",
        "print('Decision Tree:')\n",
        "print('Accuracy= ',acc*100)\n",
        "print('Precision=', precision*100)\n",
        "print('True Positive Rate=',true_pos_rate*100)\n",
        "print('True Negative Rate= ',true_neg_rate*100)"
      ],
      "metadata": {
        "colab": {
          "base_uri": "https://localhost:8080/"
        },
        "id": "TeWJpMfrUjT_",
        "outputId": "ef6a5c17-c368-4cc1-e760-6757c011678d"
      },
      "execution_count": 161,
      "outputs": [
        {
          "output_type": "stream",
          "name": "stdout",
          "text": [
            "Decision Tree:\n",
            "Accuracy=  83.27316486161251\n",
            "Precision= 78.92561983471074\n",
            "True Positive Rate= 68.45878136200717\n",
            "True Negative Rate=  90.76086956521739\n"
          ]
        }
      ]
    },
    {
      "cell_type": "code",
      "source": [
        "from sklearn.neighbors import KNeighborsClassifier\n",
        "classifier1 = KNeighborsClassifier(n_neighbors = 268)#K\n",
        "classifier1.fit(X_train, y_train)\n",
        "\n",
        "# Predicting the Test set results\n",
        "y_pred = classifier1.predict(X_test)\n",
        "\n",
        "cm1=confusion_matrix(y_test, y_pred)\n",
        "acc1=(cm1[0][0]+cm1[1][1])/len(y_test)\n",
        "#Accuracy=Accuracy+acc\n",
        "#print('Accuracy is %f'%(acc*100))\n",
        "\n",
        "#Accuracy=Accuracy/20\n",
        "#print('Total Accuracy equals= %f'%(Accuracy*100))\n",
        "precision=cm1[1][1]/(cm1[1][1]+cm1[0][1])\n",
        "true_pos_rate=cm1[1][1]/(cm1[1][1]+cm1[1][0])\n",
        "true_neg_rate=cm1[0][0]/(cm1[0][0]+cm1[0][1])\n",
        "print('Decision Tree:')\n",
        "print('Accuracy= ',acc1*100)\n",
        "print('Precision=', precision*100)\n",
        "print('True Positive Rate=',true_pos_rate*100)\n",
        "print('True Negative Rate= ',true_neg_rate*100)\n"
      ],
      "metadata": {
        "colab": {
          "base_uri": "https://localhost:8080/"
        },
        "id": "Ft0K_FSJUjaC",
        "outputId": "672c85d7-6832-436a-8356-b4708bd09e7a"
      },
      "execution_count": 165,
      "outputs": [
        {
          "output_type": "stream",
          "name": "stdout",
          "text": [
            "Decision Tree:\n",
            "Accuracy=  76.77496991576413\n",
            "Precision= 73.26732673267327\n",
            "True Positive Rate= 51.56794425087108\n",
            "True Negative Rate=  90.07352941176471\n"
          ]
        }
      ]
    },
    {
      "cell_type": "code",
      "source": [
        "from sklearn.tree import DecisionTreeClassifier\n",
        "tree = DecisionTreeClassifier(criterion='entropy')\n",
        "tree.fit(X_train, y_train)\n",
        "\n",
        "\n",
        "y_pred=tree.predict(X_test)\n",
        "\n",
        "cm22=confusion_matrix(y_test, y_pred)\n",
        "acc22=(cm22[0][0]+cm22[1][1])/len(y_test)\n",
        "#Accuracy=Accuracy+acc\n",
        "#print('Accuracy is %f'%(acc*100))\n",
        "\n",
        "#Accuracy=Accuracy/20\n",
        "#print('Total Accuracy equals= %f'%(Accuracy*100))\n",
        "precision22=cm22[1][1]/(cm22[1][1]+cm22[0][1])\n",
        "true_pos_rate22=cm22[1][1]/(cm22[1][1]+cm22[1][0])\n",
        "true_neg_rate22=cm22[0][0]/(cm22[0][0]+cm22[0][1])\n",
        "print('Decision Tree:')\n",
        "print('Accuracy= ',acc22*100)\n",
        "print('Precision=', precision22*100)\n",
        "print('True Positive Rate=',true_pos_rate22*100)\n",
        "print('True Negative Rate= ',true_neg_rate22*100)"
      ],
      "metadata": {
        "colab": {
          "base_uri": "https://localhost:8080/"
        },
        "id": "8X4UO787Ujfr",
        "outputId": "e8a3e13e-1fa8-4d0d-eb18-9c235911d229"
      },
      "execution_count": 185,
      "outputs": [
        {
          "output_type": "stream",
          "name": "stdout",
          "text": [
            "Decision Tree:\n",
            "Accuracy=  99.39831528279181\n",
            "Precision= 98.28767123287672\n",
            "True Positive Rate= 100.0\n",
            "True Negative Rate=  99.08088235294117\n"
          ]
        }
      ]
    },
    {
      "cell_type": "code",
      "source": [
        "from sklearn.ensemble import RandomForestClassifier\n",
        "rand_forest=RandomForestClassifier(n_estimators=10,criterion='entropy')\n",
        "rand_forest.fit(X_train, y_train)\n",
        "\n",
        "y_pred_forest=rand_forest.predict(X_test)\n",
        "\n",
        "cm_forest=confusion_matrix(y_test, y_pred_forest)\n",
        "acc_forest=(cm_forest[0][0]+cm_forest[1][1])/len(y_test)\n",
        "precision5=cm_forest[1][1]/(cm_forest[1][1]+cm_forest[0][1])\n",
        "true_pos_rate5=cm_forest[1][1]/(cm_forest[1][1]+cm_forest[1][0])\n",
        "true_neg_rate5=cm_forest[0][0]/(cm_forest[0][0]+cm_forest[0][1])\n",
        "\n",
        "print('Random Forest:')\n",
        "print('Accuracy: ',acc_forest*100)\n",
        "print('Precision=', precision5*100)\n",
        "print('True Positive Rate=',true_pos_rate5*100)\n",
        "print('True Negative Rate= ',true_neg_rate5*100)\n",
        "\n"
      ],
      "metadata": {
        "colab": {
          "base_uri": "https://localhost:8080/"
        },
        "id": "AyX9ezioUjp4",
        "outputId": "43c27c76-2b03-43d7-c433-1a4d87aca19f"
      },
      "execution_count": 175,
      "outputs": [
        {
          "output_type": "stream",
          "name": "stdout",
          "text": [
            "Random Forest:\n",
            "Accuracy:  98.43561973525873\n",
            "Precision= 96.5986394557823\n",
            "True Positive Rate= 98.95470383275261\n",
            "True Negative Rate=  98.16176470588235\n"
          ]
        }
      ]
    },
    {
      "cell_type": "code",
      "source": [
        "\n",
        ""
      ],
      "metadata": {
        "id": "EbwwRcqnaFqM"
      },
      "execution_count": 170,
      "outputs": []
    },
    {
      "cell_type": "code",
      "source": [
        "\n",
        "from sklearn.linear_model import LogisticRegression\n",
        "classifier4=LogisticRegression(random_state=0)\n",
        "classifier4.fit(X_train,y_train)\n",
        "\n",
        "y_pred=classifier4.predict(X_train)\n",
        "\"\"\"\n",
        "from sklearn.metrics import confusion_matrix\n",
        "\n",
        "cm6=confusion_matrix(y_test, y_pred)\n",
        "acc6=(cm6[0][0]+cm6[1][1])/len(y_test)\n",
        "precision6=cm6[1][1]/(cm6[1][1]+cm6[0][1])\n",
        "true_pos_rate6=cm6[1][1]/(cm6[1][1]+cm6[1][0])\n",
        "true_neg_rate6=cm6[0][0]/(cm6[0][0]+cm6[0][1])\n",
        "\n",
        "print('Random Forest:')\n",
        "print('Accuracy: ',acc6*100)\n",
        "print('Precision=', precision6*100)\n",
        "print('True Positive Rate=',true_pos_rate6*100)\n",
        "print('True Negative Rate= ',true_neg_rate6*100)\n",
        "\"\"\""
      ],
      "metadata": {
        "colab": {
          "base_uri": "https://localhost:8080/",
          "height": 87
        },
        "id": "wI6e_6MiaLf5",
        "outputId": "4aaf6c93-7006-4e46-842a-213326cfe1ca"
      },
      "execution_count": 182,
      "outputs": [
        {
          "output_type": "execute_result",
          "data": {
            "text/plain": [
              "\"\\nfrom sklearn.metrics import confusion_matrix\\n\\ncm6=confusion_matrix(y_test, y_pred)\\nacc6=(cm6[0][0]+cm6[1][1])/len(y_test)\\nprecision6=cm6[1][1]/(cm6[1][1]+cm6[0][1])\\ntrue_pos_rate6=cm6[1][1]/(cm6[1][1]+cm6[1][0])\\ntrue_neg_rate6=cm6[0][0]/(cm6[0][0]+cm6[0][1])\\n\\nprint('Random Forest:')\\nprint('Accuracy: ',acc6*100)\\nprint('Precision=', precision6*100)\\nprint('True Positive Rate=',true_pos_rate6*100)\\nprint('True Negative Rate= ',true_neg_rate6*100)\\n\""
            ],
            "application/vnd.google.colaboratory.intrinsic+json": {
              "type": "string"
            }
          },
          "metadata": {},
          "execution_count": 182
        }
      ]
    },
    {
      "cell_type": "code",
      "source": [
        "\n"
      ],
      "metadata": {
        "id": "mg69ZUGrWvRk"
      },
      "execution_count": 185,
      "outputs": []
    },
    {
      "cell_type": "code",
      "source": [
        "from sklearn.metrics import mean_squared_error\n",
        "MSE = mean_squared_error(y_test , y_pred)\n",
        "MSE"
      ],
      "metadata": {
        "colab": {
          "base_uri": "https://localhost:8080/"
        },
        "id": "hrUgkcrtXRjR",
        "outputId": "ad020c37-eabc-4072-d679-4ce6400ea54d"
      },
      "execution_count": 186,
      "outputs": [
        {
          "output_type": "execute_result",
          "data": {
            "text/plain": [
              "0.006016847172081829"
            ]
          },
          "metadata": {},
          "execution_count": 186
        }
      ]
    },
    {
      "cell_type": "code",
      "source": [
        "model= Sequential()\n",
        "model.add(Dense(12,input_dim=8,activation ='relu'))\n",
        "model.add(Dense(8,activation ='relu'))\n",
        "model.add(Dense(1,activation ='sigmoid'))\n"
      ],
      "metadata": {
        "id": "096bKyofrMZ2"
      },
      "execution_count": 187,
      "outputs": []
    },
    {
      "cell_type": "code",
      "source": [
        "model.compile(loss=\"binary_crossentropy\",optimizer=\"adam\",metrics=[\"accuracy\"])"
      ],
      "metadata": {
        "id": "NY-x799Arak8"
      },
      "execution_count": 188,
      "outputs": []
    },
    {
      "cell_type": "code",
      "source": [
        "history=model.fit(X_train,y_train, epochs=150, batch_size=10)"
      ],
      "metadata": {
        "colab": {
          "base_uri": "https://localhost:8080/"
        },
        "id": "qE82V8DiuCjO",
        "outputId": "b832b554-35ab-420c-ab16-0287f7d56b8d"
      },
      "execution_count": 189,
      "outputs": [
        {
          "output_type": "stream",
          "name": "stdout",
          "text": [
            "Epoch 1/150\n",
            "194/194 [==============================] - 1s 1ms/step - loss: 0.5947 - accuracy: 0.6892\n",
            "Epoch 2/150\n",
            "194/194 [==============================] - 0s 1ms/step - loss: 0.5030 - accuracy: 0.7574\n",
            "Epoch 3/150\n",
            "194/194 [==============================] - 0s 1ms/step - loss: 0.4717 - accuracy: 0.7734\n",
            "Epoch 4/150\n",
            "194/194 [==============================] - 0s 1ms/step - loss: 0.4559 - accuracy: 0.7728\n",
            "Epoch 5/150\n",
            "194/194 [==============================] - 0s 1ms/step - loss: 0.4461 - accuracy: 0.7785\n",
            "Epoch 6/150\n",
            "194/194 [==============================] - 0s 1ms/step - loss: 0.4384 - accuracy: 0.7780\n",
            "Epoch 7/150\n",
            "194/194 [==============================] - 0s 1ms/step - loss: 0.4319 - accuracy: 0.7852\n",
            "Epoch 8/150\n",
            "194/194 [==============================] - 0s 1ms/step - loss: 0.4274 - accuracy: 0.7765\n",
            "Epoch 9/150\n",
            "194/194 [==============================] - 0s 1ms/step - loss: 0.4232 - accuracy: 0.7816\n",
            "Epoch 10/150\n",
            "194/194 [==============================] - 0s 1ms/step - loss: 0.4183 - accuracy: 0.7868\n",
            "Epoch 11/150\n",
            "194/194 [==============================] - 0s 1ms/step - loss: 0.4142 - accuracy: 0.7925\n",
            "Epoch 12/150\n",
            "194/194 [==============================] - 0s 1ms/step - loss: 0.4100 - accuracy: 0.7919\n",
            "Epoch 13/150\n",
            "194/194 [==============================] - 0s 1ms/step - loss: 0.4063 - accuracy: 0.7961\n",
            "Epoch 14/150\n",
            "194/194 [==============================] - 0s 1ms/step - loss: 0.4031 - accuracy: 0.7981\n",
            "Epoch 15/150\n",
            "194/194 [==============================] - 0s 1ms/step - loss: 0.4001 - accuracy: 0.8028\n",
            "Epoch 16/150\n",
            "194/194 [==============================] - 0s 1ms/step - loss: 0.3979 - accuracy: 0.8007\n",
            "Epoch 17/150\n",
            "194/194 [==============================] - 0s 1ms/step - loss: 0.3950 - accuracy: 0.8095\n",
            "Epoch 18/150\n",
            "194/194 [==============================] - 0s 1ms/step - loss: 0.3918 - accuracy: 0.8167\n",
            "Epoch 19/150\n",
            "194/194 [==============================] - 0s 1ms/step - loss: 0.3899 - accuracy: 0.8162\n",
            "Epoch 20/150\n",
            "194/194 [==============================] - 0s 1ms/step - loss: 0.3882 - accuracy: 0.8193\n",
            "Epoch 21/150\n",
            "194/194 [==============================] - 0s 1ms/step - loss: 0.3854 - accuracy: 0.8219\n",
            "Epoch 22/150\n",
            "194/194 [==============================] - 0s 1ms/step - loss: 0.3833 - accuracy: 0.8260\n",
            "Epoch 23/150\n",
            "194/194 [==============================] - 0s 1ms/step - loss: 0.3808 - accuracy: 0.8209\n",
            "Epoch 24/150\n",
            "194/194 [==============================] - 0s 1ms/step - loss: 0.3786 - accuracy: 0.8240\n",
            "Epoch 25/150\n",
            "194/194 [==============================] - 0s 1ms/step - loss: 0.3762 - accuracy: 0.8301\n",
            "Epoch 26/150\n",
            "194/194 [==============================] - 0s 1ms/step - loss: 0.3754 - accuracy: 0.8338\n",
            "Epoch 27/150\n",
            "194/194 [==============================] - 0s 1ms/step - loss: 0.3733 - accuracy: 0.8363\n",
            "Epoch 28/150\n",
            "194/194 [==============================] - 0s 1ms/step - loss: 0.3720 - accuracy: 0.8389\n",
            "Epoch 29/150\n",
            "194/194 [==============================] - 0s 1ms/step - loss: 0.3693 - accuracy: 0.8363\n",
            "Epoch 30/150\n",
            "194/194 [==============================] - 0s 1ms/step - loss: 0.3675 - accuracy: 0.8420\n",
            "Epoch 31/150\n",
            "194/194 [==============================] - 0s 1ms/step - loss: 0.3664 - accuracy: 0.8410\n",
            "Epoch 32/150\n",
            "194/194 [==============================] - 0s 1ms/step - loss: 0.3644 - accuracy: 0.8431\n",
            "Epoch 33/150\n",
            "194/194 [==============================] - 0s 1ms/step - loss: 0.3624 - accuracy: 0.8467\n",
            "Epoch 34/150\n",
            "194/194 [==============================] - 0s 1ms/step - loss: 0.3607 - accuracy: 0.8415\n",
            "Epoch 35/150\n",
            "194/194 [==============================] - 0s 1ms/step - loss: 0.3585 - accuracy: 0.8456\n",
            "Epoch 36/150\n",
            "194/194 [==============================] - 0s 1ms/step - loss: 0.3568 - accuracy: 0.8456\n",
            "Epoch 37/150\n",
            "194/194 [==============================] - 0s 1ms/step - loss: 0.3555 - accuracy: 0.8472\n",
            "Epoch 38/150\n",
            "194/194 [==============================] - 0s 1ms/step - loss: 0.3539 - accuracy: 0.8487\n",
            "Epoch 39/150\n",
            "194/194 [==============================] - 0s 1ms/step - loss: 0.3526 - accuracy: 0.8472\n",
            "Epoch 40/150\n",
            "194/194 [==============================] - 0s 1ms/step - loss: 0.3508 - accuracy: 0.8477\n",
            "Epoch 41/150\n",
            "194/194 [==============================] - 0s 1ms/step - loss: 0.3493 - accuracy: 0.8513\n",
            "Epoch 42/150\n",
            "194/194 [==============================] - 0s 2ms/step - loss: 0.3489 - accuracy: 0.8487\n",
            "Epoch 43/150\n",
            "194/194 [==============================] - 0s 2ms/step - loss: 0.3472 - accuracy: 0.8451\n",
            "Epoch 44/150\n",
            "194/194 [==============================] - 0s 2ms/step - loss: 0.3461 - accuracy: 0.8467\n",
            "Epoch 45/150\n",
            "194/194 [==============================] - 0s 2ms/step - loss: 0.3438 - accuracy: 0.8508\n",
            "Epoch 46/150\n",
            "194/194 [==============================] - 0s 2ms/step - loss: 0.3437 - accuracy: 0.8529\n",
            "Epoch 47/150\n",
            "194/194 [==============================] - 0s 2ms/step - loss: 0.3421 - accuracy: 0.8482\n",
            "Epoch 48/150\n",
            "194/194 [==============================] - 0s 1ms/step - loss: 0.3412 - accuracy: 0.8518\n",
            "Epoch 49/150\n",
            "194/194 [==============================] - 0s 1ms/step - loss: 0.3396 - accuracy: 0.8472\n",
            "Epoch 50/150\n",
            "194/194 [==============================] - 0s 1ms/step - loss: 0.3390 - accuracy: 0.8523\n",
            "Epoch 51/150\n",
            "194/194 [==============================] - 0s 1ms/step - loss: 0.3374 - accuracy: 0.8534\n",
            "Epoch 52/150\n",
            "194/194 [==============================] - 0s 1ms/step - loss: 0.3377 - accuracy: 0.8539\n",
            "Epoch 53/150\n",
            "194/194 [==============================] - 0s 1ms/step - loss: 0.3351 - accuracy: 0.8549\n",
            "Epoch 54/150\n",
            "194/194 [==============================] - 0s 1ms/step - loss: 0.3341 - accuracy: 0.8554\n",
            "Epoch 55/150\n",
            "194/194 [==============================] - 0s 1ms/step - loss: 0.3349 - accuracy: 0.8560\n",
            "Epoch 56/150\n",
            "194/194 [==============================] - 0s 1ms/step - loss: 0.3323 - accuracy: 0.8534\n",
            "Epoch 57/150\n",
            "194/194 [==============================] - 0s 1ms/step - loss: 0.3319 - accuracy: 0.8554\n",
            "Epoch 58/150\n",
            "194/194 [==============================] - 0s 1ms/step - loss: 0.3299 - accuracy: 0.8606\n",
            "Epoch 59/150\n",
            "194/194 [==============================] - 0s 1ms/step - loss: 0.3299 - accuracy: 0.8560\n",
            "Epoch 60/150\n",
            "194/194 [==============================] - 0s 1ms/step - loss: 0.3270 - accuracy: 0.8549\n",
            "Epoch 61/150\n",
            "194/194 [==============================] - 0s 1ms/step - loss: 0.3267 - accuracy: 0.8565\n",
            "Epoch 62/150\n",
            "194/194 [==============================] - 0s 1ms/step - loss: 0.3265 - accuracy: 0.8606\n",
            "Epoch 63/150\n",
            "194/194 [==============================] - 0s 1ms/step - loss: 0.3228 - accuracy: 0.8585\n",
            "Epoch 64/150\n",
            "194/194 [==============================] - 0s 1ms/step - loss: 0.3236 - accuracy: 0.8570\n",
            "Epoch 65/150\n",
            "194/194 [==============================] - 0s 1ms/step - loss: 0.3214 - accuracy: 0.8622\n",
            "Epoch 66/150\n",
            "194/194 [==============================] - 0s 1ms/step - loss: 0.3202 - accuracy: 0.8601\n",
            "Epoch 67/150\n",
            "194/194 [==============================] - 0s 1ms/step - loss: 0.3202 - accuracy: 0.8596\n",
            "Epoch 68/150\n",
            "194/194 [==============================] - 0s 1ms/step - loss: 0.3187 - accuracy: 0.8622\n",
            "Epoch 69/150\n",
            "194/194 [==============================] - 0s 1ms/step - loss: 0.3181 - accuracy: 0.8616\n",
            "Epoch 70/150\n",
            "194/194 [==============================] - 0s 1ms/step - loss: 0.3175 - accuracy: 0.8622\n",
            "Epoch 71/150\n",
            "194/194 [==============================] - 0s 1ms/step - loss: 0.3163 - accuracy: 0.8575\n",
            "Epoch 72/150\n",
            "194/194 [==============================] - 0s 1ms/step - loss: 0.3144 - accuracy: 0.8611\n",
            "Epoch 73/150\n",
            "194/194 [==============================] - 0s 1ms/step - loss: 0.3140 - accuracy: 0.8575\n",
            "Epoch 74/150\n",
            "194/194 [==============================] - 0s 1ms/step - loss: 0.3146 - accuracy: 0.8632\n",
            "Epoch 75/150\n",
            "194/194 [==============================] - 0s 1ms/step - loss: 0.3132 - accuracy: 0.8591\n",
            "Epoch 76/150\n",
            "194/194 [==============================] - 0s 1ms/step - loss: 0.3118 - accuracy: 0.8689\n",
            "Epoch 77/150\n",
            "194/194 [==============================] - 0s 1ms/step - loss: 0.3107 - accuracy: 0.8632\n",
            "Epoch 78/150\n",
            "194/194 [==============================] - 0s 1ms/step - loss: 0.3105 - accuracy: 0.8663\n",
            "Epoch 79/150\n",
            "194/194 [==============================] - 0s 1ms/step - loss: 0.3108 - accuracy: 0.8658\n",
            "Epoch 80/150\n",
            "194/194 [==============================] - 0s 1ms/step - loss: 0.3084 - accuracy: 0.8658\n",
            "Epoch 81/150\n",
            "194/194 [==============================] - 0s 1ms/step - loss: 0.3077 - accuracy: 0.8704\n",
            "Epoch 82/150\n",
            "194/194 [==============================] - 0s 1ms/step - loss: 0.3080 - accuracy: 0.8647\n",
            "Epoch 83/150\n",
            "194/194 [==============================] - 0s 1ms/step - loss: 0.3066 - accuracy: 0.8694\n",
            "Epoch 84/150\n",
            "194/194 [==============================] - 0s 1ms/step - loss: 0.3070 - accuracy: 0.8709\n",
            "Epoch 85/150\n",
            "194/194 [==============================] - 0s 1ms/step - loss: 0.3053 - accuracy: 0.8653\n",
            "Epoch 86/150\n",
            "194/194 [==============================] - 0s 1ms/step - loss: 0.3039 - accuracy: 0.8709\n",
            "Epoch 87/150\n",
            "194/194 [==============================] - 0s 1ms/step - loss: 0.3043 - accuracy: 0.8699\n",
            "Epoch 88/150\n",
            "194/194 [==============================] - 0s 1ms/step - loss: 0.3039 - accuracy: 0.8653\n",
            "Epoch 89/150\n",
            "194/194 [==============================] - 0s 2ms/step - loss: 0.3033 - accuracy: 0.8740\n",
            "Epoch 90/150\n",
            "194/194 [==============================] - 0s 1ms/step - loss: 0.3009 - accuracy: 0.8715\n",
            "Epoch 91/150\n",
            "194/194 [==============================] - 0s 1ms/step - loss: 0.3008 - accuracy: 0.8668\n",
            "Epoch 92/150\n",
            "194/194 [==============================] - 0s 1ms/step - loss: 0.2998 - accuracy: 0.8725\n",
            "Epoch 93/150\n",
            "194/194 [==============================] - 0s 2ms/step - loss: 0.2997 - accuracy: 0.8704\n",
            "Epoch 94/150\n",
            "194/194 [==============================] - 0s 2ms/step - loss: 0.2981 - accuracy: 0.8684\n",
            "Epoch 95/150\n",
            "194/194 [==============================] - 0s 1ms/step - loss: 0.2986 - accuracy: 0.8735\n",
            "Epoch 96/150\n",
            "194/194 [==============================] - 0s 1ms/step - loss: 0.2972 - accuracy: 0.8684\n",
            "Epoch 97/150\n",
            "194/194 [==============================] - 0s 1ms/step - loss: 0.2974 - accuracy: 0.8684\n",
            "Epoch 98/150\n",
            "194/194 [==============================] - 0s 1ms/step - loss: 0.2978 - accuracy: 0.8735\n",
            "Epoch 99/150\n",
            "194/194 [==============================] - 0s 1ms/step - loss: 0.2959 - accuracy: 0.8725\n",
            "Epoch 100/150\n",
            "194/194 [==============================] - 0s 1ms/step - loss: 0.2958 - accuracy: 0.8709\n",
            "Epoch 101/150\n",
            "194/194 [==============================] - 0s 1ms/step - loss: 0.2954 - accuracy: 0.8735\n",
            "Epoch 102/150\n",
            "194/194 [==============================] - 0s 1ms/step - loss: 0.2942 - accuracy: 0.8694\n",
            "Epoch 103/150\n",
            "194/194 [==============================] - 0s 1ms/step - loss: 0.2942 - accuracy: 0.8684\n",
            "Epoch 104/150\n",
            "194/194 [==============================] - 0s 1ms/step - loss: 0.2941 - accuracy: 0.8745\n",
            "Epoch 105/150\n",
            "194/194 [==============================] - 0s 1ms/step - loss: 0.2926 - accuracy: 0.8694\n",
            "Epoch 106/150\n",
            "194/194 [==============================] - 0s 1ms/step - loss: 0.2924 - accuracy: 0.8699\n",
            "Epoch 107/150\n",
            "194/194 [==============================] - 0s 1ms/step - loss: 0.2920 - accuracy: 0.8730\n",
            "Epoch 108/150\n",
            "194/194 [==============================] - 0s 1ms/step - loss: 0.2920 - accuracy: 0.8709\n",
            "Epoch 109/150\n",
            "194/194 [==============================] - 0s 1ms/step - loss: 0.2911 - accuracy: 0.8766\n",
            "Epoch 110/150\n",
            "194/194 [==============================] - 0s 1ms/step - loss: 0.2914 - accuracy: 0.8751\n",
            "Epoch 111/150\n",
            "194/194 [==============================] - 0s 1ms/step - loss: 0.2912 - accuracy: 0.8740\n",
            "Epoch 112/150\n",
            "194/194 [==============================] - 0s 1ms/step - loss: 0.2907 - accuracy: 0.8730\n",
            "Epoch 113/150\n",
            "194/194 [==============================] - 0s 1ms/step - loss: 0.2897 - accuracy: 0.8782\n",
            "Epoch 114/150\n",
            "194/194 [==============================] - 0s 1ms/step - loss: 0.2882 - accuracy: 0.8782\n",
            "Epoch 115/150\n",
            "194/194 [==============================] - 0s 1ms/step - loss: 0.2871 - accuracy: 0.8745\n",
            "Epoch 116/150\n",
            "194/194 [==============================] - 0s 1ms/step - loss: 0.2882 - accuracy: 0.8771\n",
            "Epoch 117/150\n",
            "194/194 [==============================] - 0s 1ms/step - loss: 0.2886 - accuracy: 0.8715\n",
            "Epoch 118/150\n",
            "194/194 [==============================] - 0s 1ms/step - loss: 0.2886 - accuracy: 0.8709\n",
            "Epoch 119/150\n",
            "194/194 [==============================] - 0s 1ms/step - loss: 0.2870 - accuracy: 0.8761\n",
            "Epoch 120/150\n",
            "194/194 [==============================] - 0s 1ms/step - loss: 0.2869 - accuracy: 0.8776\n",
            "Epoch 121/150\n",
            "194/194 [==============================] - 0s 1ms/step - loss: 0.2868 - accuracy: 0.8787\n",
            "Epoch 122/150\n",
            "194/194 [==============================] - 0s 1ms/step - loss: 0.2857 - accuracy: 0.8725\n",
            "Epoch 123/150\n",
            "194/194 [==============================] - 0s 1ms/step - loss: 0.2871 - accuracy: 0.8740\n",
            "Epoch 124/150\n",
            "194/194 [==============================] - 0s 1ms/step - loss: 0.2854 - accuracy: 0.8782\n",
            "Epoch 125/150\n",
            "194/194 [==============================] - 0s 1ms/step - loss: 0.2846 - accuracy: 0.8807\n",
            "Epoch 126/150\n",
            "194/194 [==============================] - 0s 1ms/step - loss: 0.2838 - accuracy: 0.8766\n",
            "Epoch 127/150\n",
            "194/194 [==============================] - 0s 1ms/step - loss: 0.2835 - accuracy: 0.8787\n",
            "Epoch 128/150\n",
            "194/194 [==============================] - 0s 1ms/step - loss: 0.2832 - accuracy: 0.8766\n",
            "Epoch 129/150\n",
            "194/194 [==============================] - 0s 1ms/step - loss: 0.2830 - accuracy: 0.8792\n",
            "Epoch 130/150\n",
            "194/194 [==============================] - 0s 1ms/step - loss: 0.2835 - accuracy: 0.8735\n",
            "Epoch 131/150\n",
            "194/194 [==============================] - 0s 1ms/step - loss: 0.2831 - accuracy: 0.8823\n",
            "Epoch 132/150\n",
            "194/194 [==============================] - 0s 1ms/step - loss: 0.2817 - accuracy: 0.8756\n",
            "Epoch 133/150\n",
            "194/194 [==============================] - 0s 1ms/step - loss: 0.2828 - accuracy: 0.8787\n",
            "Epoch 134/150\n",
            "194/194 [==============================] - 0s 1ms/step - loss: 0.2828 - accuracy: 0.8776\n",
            "Epoch 135/150\n",
            "194/194 [==============================] - 0s 1ms/step - loss: 0.2824 - accuracy: 0.8787\n",
            "Epoch 136/150\n",
            "194/194 [==============================] - 0s 2ms/step - loss: 0.2804 - accuracy: 0.8766\n",
            "Epoch 137/150\n",
            "194/194 [==============================] - 0s 2ms/step - loss: 0.2814 - accuracy: 0.8782\n",
            "Epoch 138/150\n",
            "194/194 [==============================] - 0s 2ms/step - loss: 0.2802 - accuracy: 0.8792\n",
            "Epoch 139/150\n",
            "194/194 [==============================] - 0s 2ms/step - loss: 0.2791 - accuracy: 0.8807\n",
            "Epoch 140/150\n",
            "194/194 [==============================] - 0s 2ms/step - loss: 0.2812 - accuracy: 0.8818\n",
            "Epoch 141/150\n",
            "194/194 [==============================] - 0s 1ms/step - loss: 0.2797 - accuracy: 0.8792\n",
            "Epoch 142/150\n",
            "194/194 [==============================] - 0s 1ms/step - loss: 0.2798 - accuracy: 0.8782\n",
            "Epoch 143/150\n",
            "194/194 [==============================] - 0s 1ms/step - loss: 0.2783 - accuracy: 0.8844\n",
            "Epoch 144/150\n",
            "194/194 [==============================] - 0s 1ms/step - loss: 0.2785 - accuracy: 0.8807\n",
            "Epoch 145/150\n",
            "194/194 [==============================] - 0s 1ms/step - loss: 0.2790 - accuracy: 0.8838\n",
            "Epoch 146/150\n",
            "194/194 [==============================] - 0s 1ms/step - loss: 0.2776 - accuracy: 0.8823\n",
            "Epoch 147/150\n",
            "194/194 [==============================] - 0s 1ms/step - loss: 0.2800 - accuracy: 0.8807\n",
            "Epoch 148/150\n",
            "194/194 [==============================] - 0s 1ms/step - loss: 0.2767 - accuracy: 0.8828\n",
            "Epoch 149/150\n",
            "194/194 [==============================] - 0s 1ms/step - loss: 0.2779 - accuracy: 0.8813\n",
            "Epoch 150/150\n",
            "194/194 [==============================] - 0s 1ms/step - loss: 0.2785 - accuracy: 0.8776\n"
          ]
        }
      ]
    },
    {
      "cell_type": "code",
      "source": [
        "#Evaluate the model\n",
        "X=pd.DataFrame(X)\n",
        "print(X.head())\n",
        "scores = model.evaluate(X_test,y_test)\n",
        "scores1 = model.evaluate(X_train,y_train)"
      ],
      "metadata": {
        "colab": {
          "base_uri": "https://localhost:8080/"
        },
        "id": "_Jb3rqKnvEpl",
        "outputId": "264e4910-d86c-487f-a7a4-eb23e97c02f6"
      },
      "execution_count": 190,
      "outputs": [
        {
          "output_type": "stream",
          "name": "stdout",
          "text": [
            "     0      1          2          3           4     5      6     7\n",
            "0  2.0  138.0  62.000000  35.000000   80.127890  33.6  0.127  47.0\n",
            "1  0.0   84.0  82.000000  31.000000  125.000000  38.2  0.233  23.0\n",
            "2  0.0  145.0  69.134393  20.824422   80.127890  44.2  0.630  31.0\n",
            "3  0.0  135.0  68.000000  42.000000  204.808165  42.3  0.365  24.0\n",
            "4  1.0  139.0  62.000000  41.000000  204.808165  40.7  0.536  21.0\n",
            "26/26 [==============================] - 0s 1ms/step - loss: 0.2981 - accuracy: 0.8748\n",
            "61/61 [==============================] - 0s 968us/step - loss: 0.2718 - accuracy: 0.8854\n"
          ]
        }
      ]
    },
    {
      "cell_type": "code",
      "source": [
        "print(\"\\n%s:%.2f%%\"% (model.metrics_names[1],scores[1]*100))"
      ],
      "metadata": {
        "colab": {
          "base_uri": "https://localhost:8080/"
        },
        "id": "1sm_vf-hvLKV",
        "outputId": "b14c4379-7385-4f57-ae1f-2c1e63da8292"
      },
      "execution_count": 191,
      "outputs": [
        {
          "output_type": "stream",
          "name": "stdout",
          "text": [
            "\n",
            "accuracy:87.48%\n"
          ]
        }
      ]
    },
    {
      "cell_type": "code",
      "source": [
        "#pip install ann_visualizer"
      ],
      "metadata": {
        "colab": {
          "base_uri": "https://localhost:8080/"
        },
        "id": "DwvlICKNvXdv",
        "outputId": "b7b83809-db8a-4ac0-cec6-e6ee782849f5"
      },
      "execution_count": 26,
      "outputs": [
        {
          "output_type": "stream",
          "name": "stdout",
          "text": [
            "Requirement already satisfied: ann_visualizer in /usr/local/lib/python3.10/dist-packages (2.5)\n"
          ]
        }
      ]
    },
    {
      "cell_type": "code",
      "source": [
        "from ann_visualizer.visualize import ann_viz\n",
        "ann_viz(model, title= \"My fisrt neural network2\")"
      ],
      "metadata": {
        "id": "AaRIS9lavtPo"
      },
      "execution_count": 77,
      "outputs": []
    },
    {
      "cell_type": "code",
      "source": [
        "\n",
        "accuracy=history.history['accuracy']\n",
        "plt.plot(accuracy,'g',label='Training Accuracy')\n",
        "plt.title('Training Accuracy')\n",
        "plt.xlabel('Epoches')\n",
        "plt.ylabel('Accuracy')\n",
        "plt.legend()\n",
        "plt.show()\n",
        "\n"
      ],
      "metadata": {
        "id": "pr0cfx9HwKhB",
        "colab": {
          "base_uri": "https://localhost:8080/",
          "height": 472
        },
        "outputId": "3d46770b-c507-46f9-abc3-9cc842836c20"
      },
      "execution_count": 78,
      "outputs": [
        {
          "output_type": "display_data",
          "data": {
            "text/plain": [
              "<Figure size 640x480 with 1 Axes>"
            ],
            "image/png": "[encoded data removed]"
          },
          "metadata": {}
        }
      ]
    },
    {
      "cell_type": "code",
      "source": [
        "print(len(accuracy))"
      ],
      "metadata": {
        "colab": {
          "base_uri": "https://localhost:8080/"
        },
        "id": "quWqJ9m8EfkO",
        "outputId": "f2409ae0-b601-40a3-8c0b-9035f54dc8e8"
      },
      "execution_count": 79,
      "outputs": [
        {
          "output_type": "stream",
          "name": "stdout",
          "text": [
            "150\n"
          ]
        }
      ]
    },
    {
      "cell_type": "code",
      "source": [
        "loss=history.history['loss']\n",
        "plt.plot(loss,'g',label='Training Loss')\n",
        "plt.title('Training Loss')\n",
        "plt.xlabel('Epoches')\n",
        "plt.ylabel('Loss')\n",
        "plt.legend()\n",
        "plt.show()"
      ],
      "metadata": {
        "colab": {
          "base_uri": "https://localhost:8080/",
          "height": 472
        },
        "id": "arclo2bjEHtd",
        "outputId": "0e5b2787-056b-46e3-a71e-862a53f5898a"
      },
      "execution_count": 80,
      "outputs": [
        {
          "output_type": "display_data",
          "data": {
            "text/plain": [
              "<Figure size 640x480 with 1 Axes>"
            ],
            "image/png": "[encoded data removed]"
          },
          "metadata": {}
        }
      ]
    },
    {
      "cell_type": "code",
      "source": [],
      "metadata": {
        "id": "CAxI4UcnEThJ"
      },
      "execution_count": null,
      "outputs": []
    }
  ]
}